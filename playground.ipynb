{
 "cells": [
  {
   "cell_type": "code",
   "execution_count": 1,
   "metadata": {
    "colab": {},
    "colab_type": "code",
    "id": "N5hg7FdTFP8V"
   },
   "outputs": [],
   "source": [
    "%config IPCompleter.greedy=True"
   ]
  },
  {
   "cell_type": "code",
   "execution_count": 2,
   "metadata": {
    "colab": {},
    "colab_type": "code",
    "id": "N5hg7FdTFP8V"
   },
   "outputs": [
    {
     "data": {
      "text/html": [
       "<style type='text/css'>\n",
       ".datatable table.frame { margin-bottom: 0; }\n",
       ".datatable table.frame thead { border-bottom: none; }\n",
       ".datatable table.frame tr.coltypes td {  color: #FFFFFF;  line-height: 6px;  padding: 0 0.5em;}\n",
       ".datatable .boolean { background: #DDDD99; }\n",
       ".datatable .object  { background: #565656; }\n",
       ".datatable .integer { background: #5D9E5D; }\n",
       ".datatable .float   { background: #4040CC; }\n",
       ".datatable .string  { background: #CC4040; }\n",
       ".datatable .row_index {  background: var(--jp-border-color3);  border-right: 1px solid var(--jp-border-color0);  color: var(--jp-ui-font-color3);  font-size: 9px;}\n",
       ".datatable .frame tr.coltypes .row_index {  background: var(--jp-border-color0);}\n",
       ".datatable th:nth-child(2) { padding-left: 12px; }\n",
       ".datatable .hellipsis {  color: var(--jp-cell-editor-border-color);}\n",
       ".datatable .vellipsis {  background: var(--jp-layout-color0);  color: var(--jp-cell-editor-border-color);}\n",
       ".datatable .na {  color: var(--jp-cell-editor-border-color);  font-size: 80%;}\n",
       ".datatable .footer { font-size: 9px; }\n",
       ".datatable .frame_dimensions {  background: var(--jp-border-color3);  border-top: 1px solid var(--jp-border-color0);  color: var(--jp-ui-font-color3);  display: inline-block;  opacity: 0.6;  padding: 1px 10px 1px 5px;}\n",
       "</style>\n"
      ],
      "text/plain": [
       "<IPython.core.display.HTML object>"
      ]
     },
     "metadata": {},
     "output_type": "display_data"
    }
   ],
   "source": [
    "import pandas as pd\n",
    "import numpy as np\n",
    "import matplotlib as mpl\n",
    "import matplotlib.pyplot as plt\n",
    "import seaborn as sns\n",
    "import datatable as dt"
   ]
  },
  {
   "cell_type": "code",
   "execution_count": 3,
   "metadata": {},
   "outputs": [],
   "source": [
    "# From: https://www.kaggle.com/arjanso/reducing-dataframe-memory-size-by-65\n",
    "def reduce_mem_usage(props):\n",
    "    start_mem_usg = props.memory_usage().sum() / 1024 ** 2\n",
    "    print(\"Memory usage of properties dataframe is :\", start_mem_usg, \" MB\")\n",
    "    for col in props.columns:\n",
    "        if props[col].dtype != object:  # Exclude strings\n",
    "            IsInt = False\n",
    "\n",
    "            mx = props[col].max()\n",
    "            mn = props[col].min()\n",
    "\n",
    "            if not np.isfinite(props[col]).all():\n",
    "                props[col].fillna(-999, inplace=True)\n",
    "\n",
    "            asint = props[col].fillna(0).astype(np.int64)\n",
    "            result = (props[col] - asint)\n",
    "            result = result.sum()\n",
    "\n",
    "            if -0.01 < result < 0.01:\n",
    "                IsInt = True\n",
    "\n",
    "            if IsInt:\n",
    "                if mn >= 0:\n",
    "                    if mx < 255:\n",
    "                        props[col] = props[col].astype(np.uint8)\n",
    "                    elif mx < 65535:\n",
    "                        props[col] = props[col].astype(np.uint16)\n",
    "                    elif mx < 4294967295:\n",
    "                        props[col] = props[col].astype(np.uint32)\n",
    "                    else:\n",
    "                        props[col] = props[col].astype(np.uint64)\n",
    "                else:\n",
    "                    if mn > np.iinfo(np.int8).min and mx < np.iinfo(np.int8).max:\n",
    "                        props[col] = props[col].astype(np.int8)\n",
    "                    elif mn > np.iinfo(np.int16).min and mx < np.iinfo(np.int16).max:\n",
    "                        props[col] = props[col].astype(np.int16)\n",
    "                    elif mn > np.iinfo(np.int32).min and mx < np.iinfo(np.int32).max:\n",
    "                        props[col] = props[col].astype(np.int32)\n",
    "                    elif mn > np.iinfo(np.int64).min and mx < np.iinfo(np.int64).max:\n",
    "                        props[col] = props[col].astype(np.int64)\n",
    "            else:\n",
    "                props[col] = props[col].astype(np.float32)\n",
    "\n",
    "    print(\"___MEMORY USAGE AFTER COMPLETION:___\")\n",
    "    mem_usg = props.memory_usage().sum() / 1024 ** 2\n",
    "    print(\"Memory usage is: \", mem_usg, \" MB\")\n",
    "    print(\"This is \", 100 * mem_usg / start_mem_usg, \"% of the initial size\")\n",
    "    return props\n",
    "\n",
    "def load_csv(path):\n",
    "    return reduce_mem_usage(pd.read_csv(path))"
   ]
  },
  {
   "cell_type": "code",
   "execution_count": 5,
   "metadata": {
    "colab": {},
    "colab_type": "code",
    "id": "rKWhDyDFFlYv"
   },
   "outputs": [
    {
     "name": "stdout",
     "output_type": "stream",
     "text": [
      "Memory usage of properties dataframe is : 1775.1524047851562  MB\n",
      "___MEMORY USAGE AFTER COMPLETION:___\n",
      "Memory usage is:  450.54638671875  MB\n",
      "This is  25.38071579117619 % of the initial size\n"
     ]
    }
   ],
   "source": [
    "train_transaction =  load_csv(\"train_transaction.csv\")\n"
   ]
  },
  {
   "cell_type": "code",
   "execution_count": 6,
   "metadata": {},
   "outputs": [
    {
     "name": "stdout",
     "output_type": "stream",
     "text": [
      "Memory usage of properties dataframe is : 45.11695098876953  MB\n",
      "___MEMORY USAGE AFTER COMPLETION:___\n",
      "Memory usage is:  23.934049606323242  MB\n",
      "This is  53.04890752099113 % of the initial size\n"
     ]
    }
   ],
   "source": [
    "train_identity =   load_csv(\"train_identity.csv\")"
   ]
  },
  {
   "cell_type": "code",
   "execution_count": 7,
   "metadata": {
    "colab": {},
    "colab_type": "code",
    "id": "0R_HOvzCzsNu"
   },
   "outputs": [],
   "source": [
    "trainset = pd.merge(train_transaction, train_identity, on='TransactionID', how='outer')\n",
    "%reset_selective -f train_transaction\n",
    "%reset_selective -f train_identity"
   ]
  },
  {
   "cell_type": "code",
   "execution_count": 8,
   "metadata": {},
   "outputs": [
    {
     "data": {
      "text/plain": [
       "Index(['TransactionID', 'isFraud', 'TransactionDT', 'TransactionAmt',\n",
       "       'ProductCD', 'card1', 'card2', 'card3', 'card4', 'card5',\n",
       "       ...\n",
       "       'id_31', 'id_32', 'id_33', 'id_34', 'id_35', 'id_36', 'id_37', 'id_38',\n",
       "       'DeviceType', 'DeviceInfo'],\n",
       "      dtype='object', length=434)"
      ]
     },
     "execution_count": 8,
     "metadata": {},
     "output_type": "execute_result"
    }
   ],
   "source": [
    "trainset.columns"
   ]
  },
  {
   "cell_type": "code",
   "execution_count": 9,
   "metadata": {
    "colab": {},
    "colab_type": "code",
    "id": "8vmc3RK-HxfK"
   },
   "outputs": [],
   "source": [
    "trainset = trainset[[\"TransactionID\",\"DeviceType\",\"DeviceInfo\",\"TransactionDT\",\"TransactionAmt\",\"ProductCD\",\"card4\",\"card6\",\"P_emaildomain\",\"R_emaildomain\",\"addr1\",\"addr2\",\"dist1\",\"dist2\",\"isFraud\"]]"
   ]
  },
  {
   "cell_type": "code",
   "execution_count": 10,
   "metadata": {
    "colab": {
     "base_uri": "https://localhost:8080/",
     "height": 204
    },
    "colab_type": "code",
    "id": "CS2gN38qJ1m5",
    "outputId": "a7e1eb99-1595-4ee5-a958-22cbcf41087b"
   },
   "outputs": [
    {
     "data": {
      "text/html": [
       "<div>\n",
       "<style scoped>\n",
       "    .dataframe tbody tr th:only-of-type {\n",
       "        vertical-align: middle;\n",
       "    }\n",
       "\n",
       "    .dataframe tbody tr th {\n",
       "        vertical-align: top;\n",
       "    }\n",
       "\n",
       "    .dataframe thead th {\n",
       "        text-align: right;\n",
       "    }\n",
       "</style>\n",
       "<table border=\"1\" class=\"dataframe\">\n",
       "  <thead>\n",
       "    <tr style=\"text-align: right;\">\n",
       "      <th></th>\n",
       "      <th>TransactionID</th>\n",
       "      <th>DeviceType</th>\n",
       "      <th>DeviceInfo</th>\n",
       "      <th>TransactionDT</th>\n",
       "      <th>TransactionAmt</th>\n",
       "      <th>ProductCD</th>\n",
       "      <th>card4</th>\n",
       "      <th>card6</th>\n",
       "      <th>P_emaildomain</th>\n",
       "      <th>R_emaildomain</th>\n",
       "      <th>addr1</th>\n",
       "      <th>addr2</th>\n",
       "      <th>dist1</th>\n",
       "      <th>dist2</th>\n",
       "      <th>isFraud</th>\n",
       "    </tr>\n",
       "  </thead>\n",
       "  <tbody>\n",
       "    <tr>\n",
       "      <td>0</td>\n",
       "      <td>2987000</td>\n",
       "      <td>NaN</td>\n",
       "      <td>NaN</td>\n",
       "      <td>86400</td>\n",
       "      <td>68.5</td>\n",
       "      <td>W</td>\n",
       "      <td>discover</td>\n",
       "      <td>credit</td>\n",
       "      <td>NaN</td>\n",
       "      <td>NaN</td>\n",
       "      <td>315</td>\n",
       "      <td>87</td>\n",
       "      <td>19</td>\n",
       "      <td>64537</td>\n",
       "      <td>0</td>\n",
       "    </tr>\n",
       "    <tr>\n",
       "      <td>1</td>\n",
       "      <td>2987001</td>\n",
       "      <td>NaN</td>\n",
       "      <td>NaN</td>\n",
       "      <td>86401</td>\n",
       "      <td>29.0</td>\n",
       "      <td>W</td>\n",
       "      <td>mastercard</td>\n",
       "      <td>credit</td>\n",
       "      <td>gmail.com</td>\n",
       "      <td>NaN</td>\n",
       "      <td>325</td>\n",
       "      <td>87</td>\n",
       "      <td>64537</td>\n",
       "      <td>64537</td>\n",
       "      <td>0</td>\n",
       "    </tr>\n",
       "    <tr>\n",
       "      <td>2</td>\n",
       "      <td>2987002</td>\n",
       "      <td>NaN</td>\n",
       "      <td>NaN</td>\n",
       "      <td>86469</td>\n",
       "      <td>59.0</td>\n",
       "      <td>W</td>\n",
       "      <td>visa</td>\n",
       "      <td>debit</td>\n",
       "      <td>outlook.com</td>\n",
       "      <td>NaN</td>\n",
       "      <td>330</td>\n",
       "      <td>87</td>\n",
       "      <td>287</td>\n",
       "      <td>64537</td>\n",
       "      <td>0</td>\n",
       "    </tr>\n",
       "    <tr>\n",
       "      <td>3</td>\n",
       "      <td>2987003</td>\n",
       "      <td>NaN</td>\n",
       "      <td>NaN</td>\n",
       "      <td>86499</td>\n",
       "      <td>50.0</td>\n",
       "      <td>W</td>\n",
       "      <td>mastercard</td>\n",
       "      <td>debit</td>\n",
       "      <td>yahoo.com</td>\n",
       "      <td>NaN</td>\n",
       "      <td>476</td>\n",
       "      <td>87</td>\n",
       "      <td>64537</td>\n",
       "      <td>64537</td>\n",
       "      <td>0</td>\n",
       "    </tr>\n",
       "    <tr>\n",
       "      <td>4</td>\n",
       "      <td>2987004</td>\n",
       "      <td>mobile</td>\n",
       "      <td>SAMSUNG SM-G892A Build/NRD90M</td>\n",
       "      <td>86506</td>\n",
       "      <td>50.0</td>\n",
       "      <td>H</td>\n",
       "      <td>mastercard</td>\n",
       "      <td>credit</td>\n",
       "      <td>gmail.com</td>\n",
       "      <td>NaN</td>\n",
       "      <td>420</td>\n",
       "      <td>87</td>\n",
       "      <td>64537</td>\n",
       "      <td>64537</td>\n",
       "      <td>0</td>\n",
       "    </tr>\n",
       "  </tbody>\n",
       "</table>\n",
       "</div>"
      ],
      "text/plain": [
       "   TransactionID DeviceType                     DeviceInfo  TransactionDT  \\\n",
       "0        2987000        NaN                            NaN          86400   \n",
       "1        2987001        NaN                            NaN          86401   \n",
       "2        2987002        NaN                            NaN          86469   \n",
       "3        2987003        NaN                            NaN          86499   \n",
       "4        2987004     mobile  SAMSUNG SM-G892A Build/NRD90M          86506   \n",
       "\n",
       "   TransactionAmt ProductCD       card4   card6 P_emaildomain R_emaildomain  \\\n",
       "0            68.5         W    discover  credit           NaN           NaN   \n",
       "1            29.0         W  mastercard  credit     gmail.com           NaN   \n",
       "2            59.0         W        visa   debit   outlook.com           NaN   \n",
       "3            50.0         W  mastercard   debit     yahoo.com           NaN   \n",
       "4            50.0         H  mastercard  credit     gmail.com           NaN   \n",
       "\n",
       "   addr1  addr2  dist1  dist2  isFraud  \n",
       "0    315     87     19  64537        0  \n",
       "1    325     87  64537  64537        0  \n",
       "2    330     87    287  64537        0  \n",
       "3    476     87  64537  64537        0  \n",
       "4    420     87  64537  64537        0  "
      ]
     },
     "execution_count": 10,
     "metadata": {},
     "output_type": "execute_result"
    }
   ],
   "source": [
    "trainset.iloc[:5]"
   ]
  },
  {
   "cell_type": "code",
   "execution_count": 11,
   "metadata": {
    "colab": {
     "base_uri": "https://localhost:8080/",
     "height": 297
    },
    "colab_type": "code",
    "id": "T_twqS7wMD1T",
    "outputId": "95741762-d99b-471e-ecbd-f15c91483835"
   },
   "outputs": [
    {
     "data": {
      "text/html": [
       "<div>\n",
       "<style scoped>\n",
       "    .dataframe tbody tr th:only-of-type {\n",
       "        vertical-align: middle;\n",
       "    }\n",
       "\n",
       "    .dataframe tbody tr th {\n",
       "        vertical-align: top;\n",
       "    }\n",
       "\n",
       "    .dataframe thead tr th {\n",
       "        text-align: left;\n",
       "    }\n",
       "\n",
       "    .dataframe thead tr:last-of-type th {\n",
       "        text-align: right;\n",
       "    }\n",
       "</style>\n",
       "<table border=\"1\" class=\"dataframe\">\n",
       "  <thead>\n",
       "    <tr>\n",
       "      <th></th>\n",
       "      <th colspan=\"2\" halign=\"left\">TransactionID</th>\n",
       "      <th colspan=\"2\" halign=\"left\">TransactionDT</th>\n",
       "      <th colspan=\"2\" halign=\"left\">TransactionAmt</th>\n",
       "      <th colspan=\"2\" halign=\"left\">addr1</th>\n",
       "      <th colspan=\"2\" halign=\"left\">addr2</th>\n",
       "      <th colspan=\"2\" halign=\"left\">dist1</th>\n",
       "      <th colspan=\"2\" halign=\"left\">dist2</th>\n",
       "    </tr>\n",
       "    <tr>\n",
       "      <th></th>\n",
       "      <th>mean</th>\n",
       "      <th>median</th>\n",
       "      <th>mean</th>\n",
       "      <th>median</th>\n",
       "      <th>mean</th>\n",
       "      <th>median</th>\n",
       "      <th>mean</th>\n",
       "      <th>median</th>\n",
       "      <th>mean</th>\n",
       "      <th>median</th>\n",
       "      <th>mean</th>\n",
       "      <th>median</th>\n",
       "      <th>mean</th>\n",
       "      <th>median</th>\n",
       "    </tr>\n",
       "    <tr>\n",
       "      <th>isFraud</th>\n",
       "      <th></th>\n",
       "      <th></th>\n",
       "      <th></th>\n",
       "      <th></th>\n",
       "      <th></th>\n",
       "      <th></th>\n",
       "      <th></th>\n",
       "      <th></th>\n",
       "      <th></th>\n",
       "      <th></th>\n",
       "      <th></th>\n",
       "      <th></th>\n",
       "      <th></th>\n",
       "      <th></th>\n",
       "    </tr>\n",
       "  </thead>\n",
       "  <tbody>\n",
       "    <tr>\n",
       "      <td>0</td>\n",
       "      <td>3.281810e+06</td>\n",
       "      <td>3281808</td>\n",
       "      <td>7.360791e+06</td>\n",
       "      <td>7271678</td>\n",
       "      <td>134.511658</td>\n",
       "      <td>68.5</td>\n",
       "      <td>6825.457106</td>\n",
       "      <td>299</td>\n",
       "      <td>80.526252</td>\n",
       "      <td>87</td>\n",
       "      <td>38140.272650</td>\n",
       "      <td>64537</td>\n",
       "      <td>60712.360962</td>\n",
       "      <td>64537</td>\n",
       "    </tr>\n",
       "    <tr>\n",
       "      <td>1</td>\n",
       "      <td>3.294952e+06</td>\n",
       "      <td>3291934</td>\n",
       "      <td>7.690033e+06</td>\n",
       "      <td>7575230</td>\n",
       "      <td>149.244781</td>\n",
       "      <td>75.0</td>\n",
       "      <td>24361.616561</td>\n",
       "      <td>337</td>\n",
       "      <td>63.326380</td>\n",
       "      <td>87</td>\n",
       "      <td>49725.827131</td>\n",
       "      <td>64537</td>\n",
       "      <td>52920.300876</td>\n",
       "      <td>64537</td>\n",
       "    </tr>\n",
       "  </tbody>\n",
       "</table>\n",
       "</div>"
      ],
      "text/plain": [
       "        TransactionID          TransactionDT          TransactionAmt         \\\n",
       "                 mean   median          mean   median           mean median   \n",
       "isFraud                                                                       \n",
       "0        3.281810e+06  3281808  7.360791e+06  7271678     134.511658   68.5   \n",
       "1        3.294952e+06  3291934  7.690033e+06  7575230     149.244781   75.0   \n",
       "\n",
       "                addr1             addr2                dist1         \\\n",
       "                 mean median       mean median          mean median   \n",
       "isFraud                                                               \n",
       "0         6825.457106    299  80.526252     87  38140.272650  64537   \n",
       "1        24361.616561    337  63.326380     87  49725.827131  64537   \n",
       "\n",
       "                dist2         \n",
       "                 mean median  \n",
       "isFraud                       \n",
       "0        60712.360962  64537  \n",
       "1        52920.300876  64537  "
      ]
     },
     "execution_count": 11,
     "metadata": {},
     "output_type": "execute_result"
    }
   ],
   "source": [
    "trainset.groupby('isFraud').agg([np.mean, np.median])"
   ]
  },
  {
   "cell_type": "code",
   "execution_count": 12,
   "metadata": {},
   "outputs": [],
   "source": [
    "trainset['TransactionDT_day'] = trainset['TransactionDT'].apply(lambda x: int(x/86400))\n",
    "trainset['TransactionDT_hour'] = trainset['TransactionDT'].apply(lambda x: int(x/86400%1*24))\n",
    "trainset['TransactionDT_min'] = trainset['TransactionDT'].apply(lambda x: int(x/86400%1*24%1*60))\n",
    "trainset['TransactionDT_sec'] = trainset['TransactionDT'].apply(lambda x: int(x/86400%1*24%1*60%1*60))"
   ]
  },
  {
   "cell_type": "markdown",
   "metadata": {},
   "source": [
    "Question 1\n",
    "----------"
   ]
  },
  {
   "cell_type": "code",
   "execution_count": 13,
   "metadata": {},
   "outputs": [
    {
     "data": {
      "image/png": "[encoded data removed]",
      "text/plain": [
       "<Figure size 1728x1152 with 9 Axes>"
      ]
     },
     "metadata": {
      "needs_background": "light"
     },
     "output_type": "display_data"
    }
   ],
   "source": [
    "hist0 = trainset[trainset['isFraud'] == True][[\"TransactionID\",\"TransactionDT\",\"TransactionAmt\",\"addr1\",\"addr2\",\"dist1\",\"dist2\"]].hist(grid=False, figsize=(24,16), color='#86bf91', zorder=2, rwidth=0.9)"
   ]
  },
  {
   "cell_type": "code",
   "execution_count": 14,
   "metadata": {},
   "outputs": [
    {
     "data": {
      "text/html": [
       "<div>\n",
       "<style scoped>\n",
       "    .dataframe tbody tr th:only-of-type {\n",
       "        vertical-align: middle;\n",
       "    }\n",
       "\n",
       "    .dataframe tbody tr th {\n",
       "        vertical-align: top;\n",
       "    }\n",
       "\n",
       "    .dataframe thead th {\n",
       "        text-align: right;\n",
       "    }\n",
       "</style>\n",
       "<table border=\"1\" class=\"dataframe\">\n",
       "  <thead>\n",
       "    <tr style=\"text-align: right;\">\n",
       "      <th></th>\n",
       "      <th>TransactionID</th>\n",
       "      <th>TransactionDT</th>\n",
       "      <th>TransactionAmt</th>\n",
       "      <th>addr1</th>\n",
       "      <th>addr2</th>\n",
       "      <th>dist1</th>\n",
       "      <th>dist2</th>\n",
       "    </tr>\n",
       "  </thead>\n",
       "  <tbody>\n",
       "    <tr>\n",
       "      <td>count</td>\n",
       "      <td>2.066300e+04</td>\n",
       "      <td>2.066300e+04</td>\n",
       "      <td>20663.000000</td>\n",
       "      <td>20663.000000</td>\n",
       "      <td>20663.000000</td>\n",
       "      <td>20663.000000</td>\n",
       "      <td>20663.000000</td>\n",
       "    </tr>\n",
       "    <tr>\n",
       "      <td>mean</td>\n",
       "      <td>3.294952e+06</td>\n",
       "      <td>7.690033e+06</td>\n",
       "      <td>149.247192</td>\n",
       "      <td>24361.616561</td>\n",
       "      <td>63.326380</td>\n",
       "      <td>49725.827131</td>\n",
       "      <td>52920.300876</td>\n",
       "    </tr>\n",
       "    <tr>\n",
       "      <td>std</td>\n",
       "      <td>1.620403e+05</td>\n",
       "      <td>4.416551e+06</td>\n",
       "      <td>232.210709</td>\n",
       "      <td>31096.084793</td>\n",
       "      <td>29.920565</td>\n",
       "      <td>27092.229234</td>\n",
       "      <td>24748.438840</td>\n",
       "    </tr>\n",
       "    <tr>\n",
       "      <td>min</td>\n",
       "      <td>2.987203e+06</td>\n",
       "      <td>8.976000e+04</td>\n",
       "      <td>0.292000</td>\n",
       "      <td>110.000000</td>\n",
       "      <td>10.000000</td>\n",
       "      <td>0.000000</td>\n",
       "      <td>0.000000</td>\n",
       "    </tr>\n",
       "    <tr>\n",
       "      <td>25%</td>\n",
       "      <td>3.167366e+06</td>\n",
       "      <td>3.965858e+06</td>\n",
       "      <td>35.043999</td>\n",
       "      <td>269.000000</td>\n",
       "      <td>25.000000</td>\n",
       "      <td>64537.000000</td>\n",
       "      <td>64537.000000</td>\n",
       "    </tr>\n",
       "    <tr>\n",
       "      <td>50%</td>\n",
       "      <td>3.291934e+06</td>\n",
       "      <td>7.575230e+06</td>\n",
       "      <td>75.000000</td>\n",
       "      <td>337.000000</td>\n",
       "      <td>87.000000</td>\n",
       "      <td>64537.000000</td>\n",
       "      <td>64537.000000</td>\n",
       "    </tr>\n",
       "    <tr>\n",
       "      <td>75%</td>\n",
       "      <td>3.428646e+06</td>\n",
       "      <td>1.121743e+07</td>\n",
       "      <td>161.000000</td>\n",
       "      <td>64537.000000</td>\n",
       "      <td>87.000000</td>\n",
       "      <td>64537.000000</td>\n",
       "      <td>64537.000000</td>\n",
       "    </tr>\n",
       "    <tr>\n",
       "      <td>max</td>\n",
       "      <td>3.577526e+06</td>\n",
       "      <td>1.581088e+07</td>\n",
       "      <td>5191.000000</td>\n",
       "      <td>64537.000000</td>\n",
       "      <td>96.000000</td>\n",
       "      <td>64537.000000</td>\n",
       "      <td>64537.000000</td>\n",
       "    </tr>\n",
       "  </tbody>\n",
       "</table>\n",
       "</div>"
      ],
      "text/plain": [
       "       TransactionID  TransactionDT  TransactionAmt         addr1  \\\n",
       "count   2.066300e+04   2.066300e+04    20663.000000  20663.000000   \n",
       "mean    3.294952e+06   7.690033e+06      149.247192  24361.616561   \n",
       "std     1.620403e+05   4.416551e+06      232.210709  31096.084793   \n",
       "min     2.987203e+06   8.976000e+04        0.292000    110.000000   \n",
       "25%     3.167366e+06   3.965858e+06       35.043999    269.000000   \n",
       "50%     3.291934e+06   7.575230e+06       75.000000    337.000000   \n",
       "75%     3.428646e+06   1.121743e+07      161.000000  64537.000000   \n",
       "max     3.577526e+06   1.581088e+07     5191.000000  64537.000000   \n",
       "\n",
       "              addr2         dist1         dist2  \n",
       "count  20663.000000  20663.000000  20663.000000  \n",
       "mean      63.326380  49725.827131  52920.300876  \n",
       "std       29.920565  27092.229234  24748.438840  \n",
       "min       10.000000      0.000000      0.000000  \n",
       "25%       25.000000  64537.000000  64537.000000  \n",
       "50%       87.000000  64537.000000  64537.000000  \n",
       "75%       87.000000  64537.000000  64537.000000  \n",
       "max       96.000000  64537.000000  64537.000000  "
      ]
     },
     "execution_count": 14,
     "metadata": {},
     "output_type": "execute_result"
    }
   ],
   "source": [
    "trainset[trainset['isFraud'] == True][[\"TransactionID\",\"TransactionDT\",\"TransactionAmt\",\"addr1\",\"addr2\",\"dist1\",\"dist2\"]].describe()"
   ]
  },
  {
   "cell_type": "code",
   "execution_count": 15,
   "metadata": {},
   "outputs": [
    {
     "data": {
      "image/png": "[encoded data removed]",
      "text/plain": [
       "<Figure size 1728x1152 with 9 Axes>"
      ]
     },
     "metadata": {
      "needs_background": "light"
     },
     "output_type": "display_data"
    }
   ],
   "source": [
    "hist0 = trainset[trainset['isFraud'] == False][[\"TransactionID\",\"TransactionDT\",\"TransactionAmt\",\"addr1\",\"addr2\",\"dist1\",\"dist2\"]].hist(grid=False, figsize=(24,16), color='#86bf91', zorder=2, rwidth=0.9)"
   ]
  },
  {
   "cell_type": "code",
   "execution_count": 16,
   "metadata": {},
   "outputs": [
    {
     "data": {
      "text/html": [
       "<div>\n",
       "<style scoped>\n",
       "    .dataframe tbody tr th:only-of-type {\n",
       "        vertical-align: middle;\n",
       "    }\n",
       "\n",
       "    .dataframe tbody tr th {\n",
       "        vertical-align: top;\n",
       "    }\n",
       "\n",
       "    .dataframe thead th {\n",
       "        text-align: right;\n",
       "    }\n",
       "</style>\n",
       "<table border=\"1\" class=\"dataframe\">\n",
       "  <thead>\n",
       "    <tr style=\"text-align: right;\">\n",
       "      <th></th>\n",
       "      <th>TransactionID</th>\n",
       "      <th>TransactionDT</th>\n",
       "      <th>TransactionAmt</th>\n",
       "      <th>addr1</th>\n",
       "      <th>addr2</th>\n",
       "      <th>dist1</th>\n",
       "      <th>dist2</th>\n",
       "    </tr>\n",
       "  </thead>\n",
       "  <tbody>\n",
       "    <tr>\n",
       "      <td>count</td>\n",
       "      <td>5.698770e+05</td>\n",
       "      <td>5.698770e+05</td>\n",
       "      <td>569877.000000</td>\n",
       "      <td>569877.000000</td>\n",
       "      <td>569877.000000</td>\n",
       "      <td>569877.00000</td>\n",
       "      <td>569877.000000</td>\n",
       "    </tr>\n",
       "    <tr>\n",
       "      <td>mean</td>\n",
       "      <td>3.281810e+06</td>\n",
       "      <td>7.360791e+06</td>\n",
       "      <td>134.340332</td>\n",
       "      <td>6825.457106</td>\n",
       "      <td>80.526252</td>\n",
       "      <td>38140.27265</td>\n",
       "      <td>60712.360962</td>\n",
       "    </tr>\n",
       "    <tr>\n",
       "      <td>std</td>\n",
       "      <td>1.707548e+05</td>\n",
       "      <td>4.623930e+06</td>\n",
       "      <td>239.398010</td>\n",
       "      <td>19420.199179</td>\n",
       "      <td>18.847367</td>\n",
       "      <td>31681.83246</td>\n",
       "      <td>15209.235886</td>\n",
       "    </tr>\n",
       "    <tr>\n",
       "      <td>min</td>\n",
       "      <td>2.987000e+06</td>\n",
       "      <td>8.640000e+04</td>\n",
       "      <td>0.251000</td>\n",
       "      <td>100.000000</td>\n",
       "      <td>13.000000</td>\n",
       "      <td>0.00000</td>\n",
       "      <td>0.000000</td>\n",
       "    </tr>\n",
       "    <tr>\n",
       "      <td>25%</td>\n",
       "      <td>3.133317e+06</td>\n",
       "      <td>3.010651e+06</td>\n",
       "      <td>43.970001</td>\n",
       "      <td>204.000000</td>\n",
       "      <td>87.000000</td>\n",
       "      <td>12.00000</td>\n",
       "      <td>64537.000000</td>\n",
       "    </tr>\n",
       "    <tr>\n",
       "      <td>50%</td>\n",
       "      <td>3.281808e+06</td>\n",
       "      <td>7.271678e+06</td>\n",
       "      <td>68.500000</td>\n",
       "      <td>299.000000</td>\n",
       "      <td>87.000000</td>\n",
       "      <td>64537.00000</td>\n",
       "      <td>64537.000000</td>\n",
       "    </tr>\n",
       "    <tr>\n",
       "      <td>75%</td>\n",
       "      <td>3.429974e+06</td>\n",
       "      <td>1.125334e+07</td>\n",
       "      <td>120.000000</td>\n",
       "      <td>420.000000</td>\n",
       "      <td>87.000000</td>\n",
       "      <td>64537.00000</td>\n",
       "      <td>64537.000000</td>\n",
       "    </tr>\n",
       "    <tr>\n",
       "      <td>max</td>\n",
       "      <td>3.577539e+06</td>\n",
       "      <td>1.581113e+07</td>\n",
       "      <td>31937.390625</td>\n",
       "      <td>64537.000000</td>\n",
       "      <td>102.000000</td>\n",
       "      <td>64537.00000</td>\n",
       "      <td>64537.000000</td>\n",
       "    </tr>\n",
       "  </tbody>\n",
       "</table>\n",
       "</div>"
      ],
      "text/plain": [
       "       TransactionID  TransactionDT  TransactionAmt          addr1  \\\n",
       "count   5.698770e+05   5.698770e+05   569877.000000  569877.000000   \n",
       "mean    3.281810e+06   7.360791e+06      134.340332    6825.457106   \n",
       "std     1.707548e+05   4.623930e+06      239.398010   19420.199179   \n",
       "min     2.987000e+06   8.640000e+04        0.251000     100.000000   \n",
       "25%     3.133317e+06   3.010651e+06       43.970001     204.000000   \n",
       "50%     3.281808e+06   7.271678e+06       68.500000     299.000000   \n",
       "75%     3.429974e+06   1.125334e+07      120.000000     420.000000   \n",
       "max     3.577539e+06   1.581113e+07    31937.390625   64537.000000   \n",
       "\n",
       "               addr2         dist1          dist2  \n",
       "count  569877.000000  569877.00000  569877.000000  \n",
       "mean       80.526252   38140.27265   60712.360962  \n",
       "std        18.847367   31681.83246   15209.235886  \n",
       "min        13.000000       0.00000       0.000000  \n",
       "25%        87.000000      12.00000   64537.000000  \n",
       "50%        87.000000   64537.00000   64537.000000  \n",
       "75%        87.000000   64537.00000   64537.000000  \n",
       "max       102.000000   64537.00000   64537.000000  "
      ]
     },
     "execution_count": 16,
     "metadata": {},
     "output_type": "execute_result"
    }
   ],
   "source": [
    "trainset[trainset['isFraud'] == False][[\"TransactionID\",\"TransactionDT\",\"TransactionAmt\",\"addr1\",\"addr2\",\"dist1\",\"dist2\"]].describe()"
   ]
  },
  {
   "cell_type": "code",
   "execution_count": 17,
   "metadata": {},
   "outputs": [
    {
     "data": {
      "image/png": "[encoded data removed]",
      "text/plain": [
       "<Figure size 1728x288 with 4 Axes>"
      ]
     },
     "metadata": {
      "needs_background": "light"
     },
     "output_type": "display_data"
    }
   ],
   "source": [
    "fig, axes = plt.subplots(1, 4, figsize=(24, 4))\n",
    "\n",
    "for i, column in enumerate([\"DeviceType\",\"ProductCD\",\"card4\",\"card6\"]):\n",
    "    pd.crosstab(trainset[column], trainset.isFraud).plot(kind='bar', ax=axes[i])\n",
    "    axes[i].set_title(\"Distribution of \" + column, pad=20, fontweight='bold', fontsize=12)"
   ]
  },
  {
   "cell_type": "code",
   "execution_count": 18,
   "metadata": {},
   "outputs": [
    {
     "data": {
      "text/plain": [
       "isFraud  DeviceInfo \n",
       "0        Windows        44601\n",
       "         iOS Device     18542\n",
       "         MacOS          12295\n",
       "         Trident/7.0     7344\n",
       "         rv:11.0         1825\n",
       "                        ...  \n",
       "1        iPhone             1\n",
       "         rv:29.0            1\n",
       "         rv:45.0            1\n",
       "         rv:52.9            1\n",
       "         rv:61.0            1\n",
       "Name: DeviceInfo, Length: 2160, dtype: int64"
      ]
     },
     "execution_count": 18,
     "metadata": {},
     "output_type": "execute_result"
    }
   ],
   "source": [
    "trainset.groupby('isFraud')['DeviceInfo'].value_counts()"
   ]
  },
  {
   "cell_type": "markdown",
   "metadata": {},
   "source": [
    "Question 2\n",
    "----------"
   ]
  },
  {
   "cell_type": "code",
   "execution_count": 19,
   "metadata": {
    "colab": {},
    "colab_type": "code",
    "id": "NQNTYO5SQd1F"
   },
   "outputs": [],
   "source": [
    "most_freq_country_code = trainset['addr2'].value_counts().idxmax()\n",
    "addr2_set = trainset[trainset['addr2'] == most_freq_country_code]"
   ]
  },
  {
   "cell_type": "code",
   "execution_count": 20,
   "metadata": {
    "colab": {
     "base_uri": "https://localhost:8080/",
     "height": 119
    },
    "colab_type": "code",
    "id": "BgzWbOt5Xs1h",
    "outputId": "565c3f8e-a201-43ca-c9cf-e0b5c509ec86"
   },
   "outputs": [
    {
     "data": {
      "text/plain": [
       "67055    1528548\n",
       "67056    1528563\n",
       "67057    1528580\n",
       "67058    1528587\n",
       "67059    1528589\n",
       "Name: TransactionDT, dtype: uint32"
      ]
     },
     "execution_count": 20,
     "metadata": {},
     "output_type": "execute_result"
    }
   ],
   "source": [
    "addr2_set['TransactionDT'][60000:60005]"
   ]
  },
  {
   "cell_type": "code",
   "execution_count": 21,
   "metadata": {
    "colab": {
     "base_uri": "https://localhost:8080/",
     "height": 224
    },
    "colab_type": "code",
    "id": "O2odB0OOd-uR",
    "outputId": "935491f6-6106-46b1-b169-5dd33e3fc469"
   },
   "outputs": [
    {
     "data": {
      "text/html": [
       "<div>\n",
       "<style scoped>\n",
       "    .dataframe tbody tr th:only-of-type {\n",
       "        vertical-align: middle;\n",
       "    }\n",
       "\n",
       "    .dataframe tbody tr th {\n",
       "        vertical-align: top;\n",
       "    }\n",
       "\n",
       "    .dataframe thead th {\n",
       "        text-align: right;\n",
       "    }\n",
       "</style>\n",
       "<table border=\"1\" class=\"dataframe\">\n",
       "  <thead>\n",
       "    <tr style=\"text-align: right;\">\n",
       "      <th></th>\n",
       "      <th>TransactionID</th>\n",
       "      <th>DeviceType</th>\n",
       "      <th>DeviceInfo</th>\n",
       "      <th>TransactionDT</th>\n",
       "      <th>TransactionAmt</th>\n",
       "      <th>ProductCD</th>\n",
       "      <th>card4</th>\n",
       "      <th>card6</th>\n",
       "      <th>P_emaildomain</th>\n",
       "      <th>R_emaildomain</th>\n",
       "      <th>addr1</th>\n",
       "      <th>addr2</th>\n",
       "      <th>dist1</th>\n",
       "      <th>dist2</th>\n",
       "      <th>isFraud</th>\n",
       "      <th>TransactionDT_day</th>\n",
       "      <th>TransactionDT_hour</th>\n",
       "      <th>TransactionDT_min</th>\n",
       "      <th>TransactionDT_sec</th>\n",
       "    </tr>\n",
       "  </thead>\n",
       "  <tbody>\n",
       "    <tr>\n",
       "      <td>67055</td>\n",
       "      <td>3054055</td>\n",
       "      <td>mobile</td>\n",
       "      <td>iOS Device</td>\n",
       "      <td>1528548</td>\n",
       "      <td>150.000000</td>\n",
       "      <td>H</td>\n",
       "      <td>mastercard</td>\n",
       "      <td>credit</td>\n",
       "      <td>gmail.com</td>\n",
       "      <td>gmail.com</td>\n",
       "      <td>126</td>\n",
       "      <td>87</td>\n",
       "      <td>64537</td>\n",
       "      <td>64537</td>\n",
       "      <td>0</td>\n",
       "      <td>17</td>\n",
       "      <td>16</td>\n",
       "      <td>35</td>\n",
       "      <td>48</td>\n",
       "    </tr>\n",
       "    <tr>\n",
       "      <td>67056</td>\n",
       "      <td>3054056</td>\n",
       "      <td>NaN</td>\n",
       "      <td>NaN</td>\n",
       "      <td>1528563</td>\n",
       "      <td>107.949997</td>\n",
       "      <td>W</td>\n",
       "      <td>discover</td>\n",
       "      <td>credit</td>\n",
       "      <td>hotmail.com</td>\n",
       "      <td>NaN</td>\n",
       "      <td>436</td>\n",
       "      <td>87</td>\n",
       "      <td>2</td>\n",
       "      <td>64537</td>\n",
       "      <td>0</td>\n",
       "      <td>17</td>\n",
       "      <td>16</td>\n",
       "      <td>36</td>\n",
       "      <td>2</td>\n",
       "    </tr>\n",
       "    <tr>\n",
       "      <td>67057</td>\n",
       "      <td>3054057</td>\n",
       "      <td>NaN</td>\n",
       "      <td>NaN</td>\n",
       "      <td>1528580</td>\n",
       "      <td>94.949997</td>\n",
       "      <td>W</td>\n",
       "      <td>mastercard</td>\n",
       "      <td>debit</td>\n",
       "      <td>aol.com</td>\n",
       "      <td>NaN</td>\n",
       "      <td>315</td>\n",
       "      <td>87</td>\n",
       "      <td>64537</td>\n",
       "      <td>64537</td>\n",
       "      <td>0</td>\n",
       "      <td>17</td>\n",
       "      <td>16</td>\n",
       "      <td>36</td>\n",
       "      <td>19</td>\n",
       "    </tr>\n",
       "    <tr>\n",
       "      <td>67058</td>\n",
       "      <td>3054058</td>\n",
       "      <td>NaN</td>\n",
       "      <td>NaN</td>\n",
       "      <td>1528587</td>\n",
       "      <td>29.000000</td>\n",
       "      <td>W</td>\n",
       "      <td>mastercard</td>\n",
       "      <td>debit</td>\n",
       "      <td>gmail.com</td>\n",
       "      <td>NaN</td>\n",
       "      <td>269</td>\n",
       "      <td>87</td>\n",
       "      <td>1</td>\n",
       "      <td>64537</td>\n",
       "      <td>0</td>\n",
       "      <td>17</td>\n",
       "      <td>16</td>\n",
       "      <td>36</td>\n",
       "      <td>26</td>\n",
       "    </tr>\n",
       "    <tr>\n",
       "      <td>67059</td>\n",
       "      <td>3054059</td>\n",
       "      <td>NaN</td>\n",
       "      <td>NaN</td>\n",
       "      <td>1528589</td>\n",
       "      <td>261.950012</td>\n",
       "      <td>W</td>\n",
       "      <td>mastercard</td>\n",
       "      <td>debit</td>\n",
       "      <td>verizon.net</td>\n",
       "      <td>NaN</td>\n",
       "      <td>494</td>\n",
       "      <td>87</td>\n",
       "      <td>1</td>\n",
       "      <td>64537</td>\n",
       "      <td>0</td>\n",
       "      <td>17</td>\n",
       "      <td>16</td>\n",
       "      <td>36</td>\n",
       "      <td>28</td>\n",
       "    </tr>\n",
       "  </tbody>\n",
       "</table>\n",
       "</div>"
      ],
      "text/plain": [
       "       TransactionID DeviceType  DeviceInfo  TransactionDT  TransactionAmt  \\\n",
       "67055        3054055     mobile  iOS Device        1528548      150.000000   \n",
       "67056        3054056        NaN         NaN        1528563      107.949997   \n",
       "67057        3054057        NaN         NaN        1528580       94.949997   \n",
       "67058        3054058        NaN         NaN        1528587       29.000000   \n",
       "67059        3054059        NaN         NaN        1528589      261.950012   \n",
       "\n",
       "      ProductCD       card4   card6 P_emaildomain R_emaildomain  addr1  addr2  \\\n",
       "67055         H  mastercard  credit     gmail.com     gmail.com    126     87   \n",
       "67056         W    discover  credit   hotmail.com           NaN    436     87   \n",
       "67057         W  mastercard   debit       aol.com           NaN    315     87   \n",
       "67058         W  mastercard   debit     gmail.com           NaN    269     87   \n",
       "67059         W  mastercard   debit   verizon.net           NaN    494     87   \n",
       "\n",
       "       dist1  dist2  isFraud  TransactionDT_day  TransactionDT_hour  \\\n",
       "67055  64537  64537        0                 17                  16   \n",
       "67056      2  64537        0                 17                  16   \n",
       "67057  64537  64537        0                 17                  16   \n",
       "67058      1  64537        0                 17                  16   \n",
       "67059      1  64537        0                 17                  16   \n",
       "\n",
       "       TransactionDT_min  TransactionDT_sec  \n",
       "67055                 35                 48  \n",
       "67056                 36                  2  \n",
       "67057                 36                 19  \n",
       "67058                 36                 26  \n",
       "67059                 36                 28  "
      ]
     },
     "execution_count": 21,
     "metadata": {},
     "output_type": "execute_result"
    }
   ],
   "source": [
    "addr2_set.iloc[60000:60005]"
   ]
  },
  {
   "cell_type": "code",
   "execution_count": 22,
   "metadata": {
    "colab": {
     "base_uri": "https://localhost:8080/",
     "height": 563
    },
    "colab_type": "code",
    "id": "NrlbzDqngrfG",
    "outputId": "cc9b0ff6-f812-46cc-b0bf-f15f9467fe93"
   },
   "outputs": [
    {
     "data": {
      "text/plain": [
       "Text(0, 0.5, 'Number of Transactions')"
      ]
     },
     "execution_count": 22,
     "metadata": {},
     "output_type": "execute_result"
    },
    {
     "data": {
      "image/png": "[encoded data removed]",
      "text/plain": [
       "<Figure size 576x432 with 1 Axes>"
      ]
     },
     "metadata": {
      "needs_background": "light"
     },
     "output_type": "display_data"
    }
   ],
   "source": [
    "hist1 = addr2_set['TransactionDT_hour'].hist(bins=24, grid=False, figsize=(8,6), color='#86bf91', zorder=2, rwidth=0.9)\n",
    "hist1.axvline(addr2_set['TransactionDT_hour'].mean(), color='k', linestyle='dashed', linewidth=1)\n",
    "\n",
    "hist1.set_title(\"Distribution of transactions by time of day for country with most frequent country code\", pad=20, fontweight='bold', fontsize=12)\n",
    "\n",
    "hist1.set_xlabel(\"Hour of day (24 hr format)\", labelpad=20, weight='bold', size=12)\n",
    "hist1.set_ylabel(\"Number of Transactions\", labelpad=20, weight='bold', size=12)"
   ]
  },
  {
   "cell_type": "markdown",
   "metadata": {},
   "source": [
    "Question 3\n",
    "----------"
   ]
  },
  {
   "cell_type": "code",
   "execution_count": 23,
   "metadata": {},
   "outputs": [
    {
     "data": {
      "text/plain": [
       "<matplotlib.axes._subplots.AxesSubplot at 0x7f58e30ad450>"
      ]
     },
     "execution_count": 23,
     "metadata": {},
     "output_type": "execute_result"
    },
    {
     "data": {
      "image/png": "[encoded data removed]",
      "text/plain": [
       "<Figure size 1728x288 with 4 Axes>"
      ]
     },
     "metadata": {
      "needs_background": "light"
     },
     "output_type": "display_data"
    }
   ],
   "source": [
    "fig, axes = plt.subplots(1, 4, figsize=(24, 4))\n",
    "trainset[['ProductCD', 'TransactionAmt']].groupby(['ProductCD']).agg([np.mean, np.median, np.std]).plot(ax=axes[0])\n",
    "\n",
    "trainset[['ProductCD', 'TransactionAmt']].groupby(['ProductCD']).agg([min]).plot(ax=axes[1])\n",
    "\n",
    "trainset[['ProductCD', 'TransactionAmt']].groupby(['ProductCD']).agg([max]).plot(ax=axes[2])\n",
    "\n",
    "trainset[['ProductCD', 'TransactionAmt']].groupby(['ProductCD']).count().plot(ax=axes[3])"
   ]
  },
  {
   "cell_type": "markdown",
   "metadata": {},
   "source": [
    "Question 4\n",
    "----------"
   ]
  },
  {
   "cell_type": "code",
   "execution_count": 24,
   "metadata": {},
   "outputs": [
    {
     "data": {
      "text/plain": [
       "<matplotlib.axes._subplots.AxesSubplot at 0x7f58e2fe7050>"
      ]
     },
     "execution_count": 24,
     "metadata": {},
     "output_type": "execute_result"
    },
    {
     "data": {
      "image/png": "[encoded data removed]",
      "text/plain": [
       "<Figure size 432x288 with 2 Axes>"
      ]
     },
     "metadata": {
      "needs_background": "light"
     },
     "output_type": "display_data"
    }
   ],
   "source": [
    "sns.heatmap(trainset[['TransactionDT_hour', 'TransactionAmt']].corr(), vmin=-1, vmax=1, cmap='seismic', linewidths=0.2, annot=True)"
   ]
  },
  {
   "cell_type": "code",
   "execution_count": 25,
   "metadata": {},
   "outputs": [
    {
     "data": {
      "text/plain": [
       "<matplotlib.axes._subplots.AxesSubplot at 0x7f58e373c690>"
      ]
     },
     "execution_count": 25,
     "metadata": {},
     "output_type": "execute_result"
    },
    {
     "data": {
      "image/png": "[encoded data removed]",
      "text/plain": [
       "<Figure size 432x288 with 1 Axes>"
      ]
     },
     "metadata": {
      "needs_background": "light"
     },
     "output_type": "display_data"
    }
   ],
   "source": [
    "trainset[['TransactionDT_hour', 'TransactionAmt']].groupby(['TransactionDT_hour']).median().plot()"
   ]
  },
  {
   "cell_type": "code",
   "execution_count": 26,
   "metadata": {},
   "outputs": [
    {
     "data": {
      "text/plain": [
       "array([[<matplotlib.axes._subplots.AxesSubplot object at 0x7f58e33023d0>]],\n",
       "      dtype=object)"
      ]
     },
     "execution_count": 26,
     "metadata": {},
     "output_type": "execute_result"
    },
    {
     "data": {
      "image/png": "[encoded data removed]",
      "text/plain": [
       "<Figure size 432x288 with 1 Axes>"
      ]
     },
     "metadata": {
      "needs_background": "light"
     },
     "output_type": "display_data"
    }
   ],
   "source": [
    "trainset[['TransactionDT_hour']].hist(bins=24)"
   ]
  },
  {
   "cell_type": "code",
   "execution_count": 27,
   "metadata": {},
   "outputs": [
    {
     "data": {
      "text/plain": [
       "array([[<matplotlib.axes._subplots.AxesSubplot object at 0x7f58e2d44950>]],\n",
       "      dtype=object)"
      ]
     },
     "execution_count": 27,
     "metadata": {},
     "output_type": "execute_result"
    },
    {
     "data": {
      "image/png": "[encoded data removed]",
      "text/plain": [
       "<Figure size 432x288 with 1 Axes>"
      ]
     },
     "metadata": {
      "needs_background": "light"
     },
     "output_type": "display_data"
    }
   ],
   "source": [
    "trainset[['TransactionAmt']].hist()"
   ]
  },
  {
   "cell_type": "code",
   "execution_count": 28,
   "metadata": {},
   "outputs": [
    {
     "data": {
      "text/plain": [
       "<matplotlib.axes._subplots.AxesSubplot at 0x7f58e335c090>"
      ]
     },
     "execution_count": 28,
     "metadata": {},
     "output_type": "execute_result"
    },
    {
     "data": {
      "image/png": "[encoded data removed]",
      "text/plain": [
       "<Figure size 432x288 with 1 Axes>"
      ]
     },
     "metadata": {
      "needs_background": "light"
     },
     "output_type": "display_data"
    }
   ],
   "source": [
    "np.log(trainset['TransactionAmt']).hist()"
   ]
  },
  {
   "cell_type": "code",
   "execution_count": 29,
   "metadata": {},
   "outputs": [
    {
     "data": {
      "text/plain": [
       "<matplotlib.axes._subplots.AxesSubplot at 0x7f58e2cd76d0>"
      ]
     },
     "execution_count": 29,
     "metadata": {},
     "output_type": "execute_result"
    },
    {
     "data": {
      "image/png": "[encoded data removed]",
      "text/plain": [
       "<Figure size 432x288 with 1 Axes>"
      ]
     },
     "metadata": {
      "needs_background": "light"
     },
     "output_type": "display_data"
    }
   ],
   "source": [
    "np.log(1 + trainset['TransactionDT_hour']).hist()"
   ]
  },
  {
   "cell_type": "markdown",
   "metadata": {},
   "source": [
    "Question 5\n",
    "----------"
   ]
  },
  {
   "cell_type": "code",
   "execution_count": 30,
   "metadata": {},
   "outputs": [
    {
     "data": {
      "text/plain": [
       "<matplotlib.axes._subplots.AxesSubplot at 0x7f58e31e3ed0>"
      ]
     },
     "execution_count": 30,
     "metadata": {},
     "output_type": "execute_result"
    },
    {
     "data": {
      "image/png": "[encoded data removed]",
      "text/plain": [
       "<Figure size 432x288 with 1 Axes>"
      ]
     },
     "metadata": {
      "needs_background": "light"
     },
     "output_type": "display_data"
    }
   ],
   "source": [
    "(trainset[trainset['isFraud'] == True]['card4'].value_counts()/trainset['card4'].value_counts()).plot(kind='bar', color='#86bf91')"
   ]
  },
  {
   "cell_type": "code",
   "execution_count": 31,
   "metadata": {},
   "outputs": [
    {
     "data": {
      "text/plain": [
       "0.03499000914417313"
      ]
     },
     "execution_count": 31,
     "metadata": {},
     "output_type": "execute_result"
    }
   ],
   "source": [
    "trainset[trainset['isFraud'] == True].shape[0]/trainset.shape[0]"
   ]
  },
  {
   "cell_type": "code",
   "execution_count": 32,
   "metadata": {},
   "outputs": [
    {
     "data": {
      "text/plain": [
       "<matplotlib.axes._subplots.AxesSubplot at 0x7f58e2be3350>"
      ]
     },
     "execution_count": 32,
     "metadata": {},
     "output_type": "execute_result"
    },
    {
     "data": {
      "image/png": "[encoded data removed]",
      "text/plain": [
       "<Figure size 432x288 with 1 Axes>"
      ]
     },
     "metadata": {
      "needs_background": "light"
     },
     "output_type": "display_data"
    }
   ],
   "source": [
    "trainset[trainset['isFraud'] == True]['card4'].value_counts().plot(kind='bar', color='#86bf91')"
   ]
  },
  {
   "cell_type": "code",
   "execution_count": 33,
   "metadata": {},
   "outputs": [
    {
     "data": {
      "text/plain": [
       "<matplotlib.axes._subplots.AxesSubplot at 0x7f58e329f110>"
      ]
     },
     "execution_count": 33,
     "metadata": {},
     "output_type": "execute_result"
    },
    {
     "data": {
      "image/png": "[encoded data removed]",
      "text/plain": [
       "<Figure size 432x288 with 1 Axes>"
      ]
     },
     "metadata": {
      "needs_background": "light"
     },
     "output_type": "display_data"
    }
   ],
   "source": [
    "(trainset[trainset['isFraud'] == True]['card6'].value_counts()/trainset['card6'].value_counts()).plot(kind='bar', color='#86bf91')"
   ]
  },
  {
   "cell_type": "code",
   "execution_count": 34,
   "metadata": {},
   "outputs": [
    {
     "data": {
      "text/plain": [
       "<matplotlib.axes._subplots.AxesSubplot at 0x7f58e39e4990>"
      ]
     },
     "execution_count": 34,
     "metadata": {},
     "output_type": "execute_result"
    },
    {
     "data": {
      "image/png": "[encoded data removed]",
      "text/plain": [
       "<Figure size 432x288 with 1 Axes>"
      ]
     },
     "metadata": {
      "needs_background": "light"
     },
     "output_type": "display_data"
    }
   ],
   "source": [
    "trainset[trainset['isFraud'] == True]['card6'].value_counts().plot(kind='bar', color='#86bf91')"
   ]
  },
  {
   "cell_type": "markdown",
   "metadata": {},
   "source": [
    "Question 6\n",
    "----------"
   ]
  },
  {
   "cell_type": "markdown",
   "metadata": {},
   "source": [
    "### Data Cleaning"
   ]
  },
  {
   "cell_type": "code",
   "execution_count": 35,
   "metadata": {},
   "outputs": [],
   "source": [
    "# Create a copy of trainset for easy resetting\n",
    "dataset = trainset.copy()"
   ]
  },
  {
   "cell_type": "code",
   "execution_count": 36,
   "metadata": {},
   "outputs": [],
   "source": [
    "# Replace columns that have empty value with 'unknown' value\n",
    "cols = ['card4', 'card6', 'DeviceType', 'DeviceInfo', 'P_emaildomain', 'R_emaildomain']\n",
    "dataset[cols] = dataset[cols].replace({'': 'unknown'})"
   ]
  },
  {
   "cell_type": "code",
   "execution_count": 37,
   "metadata": {},
   "outputs": [],
   "source": [
    "# Keep the top 5 column values and group remaining ones into 'Others'\n",
    "top5_deviceinfo = set(dataset['DeviceInfo'].value_counts()[:5].index)\n",
    "dataset['DeviceInfo'] = dataset['DeviceInfo'].apply(lambda x: x if x in top5_deviceinfo else 'Others')"
   ]
  },
  {
   "cell_type": "code",
   "execution_count": 38,
   "metadata": {},
   "outputs": [],
   "source": [
    "# Group categories that are similar into one category [4]\n",
    "regex_patterns = {\n",
    "    r'^frontier.*$': 'frontier.com',\n",
    "    r'^gmail.*$': 'gmail.com',\n",
    "    r'^hotmail.*$': 'hotmail.com',\n",
    "    r'^live.*$': 'live.com',\n",
    "    r'^netzero.*$': 'netzero.com',\n",
    "    r'^outlook.*$': 'outlook.com',\n",
    "    r'^yahoo.*$': 'yahoo.com'\n",
    "}\n",
    "replacements = {\n",
    "    'P_emaildomain': regex_patterns,\n",
    "    'R_emaildomain': regex_patterns\n",
    "}\n",
    "\n",
    "dataset.replace(replacements, regex=True, inplace=True)"
   ]
  },
  {
   "cell_type": "markdown",
   "metadata": {},
   "source": [
    "### Preprocessing\n",
    "Use sine and cosine for time of the day as these are [$cyclical features^{[3]}$](#References)"
   ]
  },
  {
   "cell_type": "code",
   "execution_count": 39,
   "metadata": {},
   "outputs": [],
   "source": [
    "dataset['hr_sin'] = np.sin((dataset['TransactionDT_hour'] + dataset['TransactionDT_min']/60.0)*(np.pi/12.0))\n",
    "dataset['hr_cos'] = np.cos((dataset['TransactionDT_hour'] + dataset['TransactionDT_min']/60.0)*(np.pi/12.0))\n",
    "dataset['TransactionAmt_lg'] = np.log(dataset['TransactionAmt'])\n",
    "\n",
    "from sklearn.preprocessing import RobustScaler\n",
    "\n",
    "rob_scaler = RobustScaler()\n",
    "dataset['TransactionAmt_scaled'] = rob_scaler.fit_transform(dataset['TransactionAmt'].values.reshape(-1,1))"
   ]
  },
  {
   "cell_type": "code",
   "execution_count": 40,
   "metadata": {},
   "outputs": [
    {
     "data": {
      "text/plain": [
       "<matplotlib.axes._subplots.AxesSubplot at 0x7f58dc8a2210>"
      ]
     },
     "execution_count": 40,
     "metadata": {},
     "output_type": "execute_result"
    },
    {
     "data": {
      "image/png": "[encoded data removed]",
      "text/plain": [
       "<Figure size 432x288 with 2 Axes>"
      ]
     },
     "metadata": {
      "needs_background": "light"
     },
     "output_type": "display_data"
    }
   ],
   "source": [
    "sns.heatmap(dataset[['TransactionAmt_scaled', 'hr_sin', 'hr_cos', 'isFraud']].corr(), vmin=-1, vmax=1, cmap='seismic', linewidths=0.2, annot=True)"
   ]
  },
  {
   "cell_type": "code",
   "execution_count": 41,
   "metadata": {},
   "outputs": [],
   "source": [
    "categorical_cols = ['DeviceType', 'ProductCD', 'card4', 'card6', 'P_emaildomain', 'R_emaildomain']\n",
    "ohe = pd.get_dummies(dataset[categorical_cols])\n",
    "ohe.drop('card6_debit or credit', axis=1, inplace=True)\n",
    "dataset = dataset.join(ohe)"
   ]
  },
  {
   "cell_type": "code",
   "execution_count": 42,
   "metadata": {},
   "outputs": [],
   "source": [
    "dataset.fillna(value={'addr1': -1.0}, inplace=True)"
   ]
  },
  {
   "cell_type": "code",
   "execution_count": 43,
   "metadata": {},
   "outputs": [],
   "source": [
    "dataset['addr1_scaled'] = rob_scaler.fit_transform(dataset['addr1'].values.reshape(-1,1))"
   ]
  },
  {
   "cell_type": "code",
   "execution_count": 44,
   "metadata": {},
   "outputs": [],
   "source": [
    "from sklearn.model_selection import train_test_split\n",
    "from sklearn import metrics"
   ]
  },
  {
   "cell_type": "code",
   "execution_count": 45,
   "metadata": {},
   "outputs": [],
   "source": [
    "train_cols = [\"TransactionAmt_scaled\",\"hr_sin\",\"hr_cos\",\"addr1\"] + list(ohe.columns)\n",
    "X, y = dataset[train_cols], dataset['isFraud']"
   ]
  },
  {
   "cell_type": "code",
   "execution_count": null,
   "metadata": {},
   "outputs": [],
   "source": []
  },
  {
   "cell_type": "code",
   "execution_count": 46,
   "metadata": {},
   "outputs": [],
   "source": [
    "#from imblearn.under_sampling import RandomUnderSampler\n",
    "#sampler = RandomUnderSampler(random_state=0, sampling_strategy=1.0)\n",
    "\n",
    "#X_resampled, y_resampled = sampler.fit_resample(X, y)\n",
    "\n",
    "X_train, X_test, y_train, y_test = train_test_split(X, y, test_size=0.2)"
   ]
  },
  {
   "cell_type": "code",
   "execution_count": 47,
   "metadata": {},
   "outputs": [],
   "source": [
    "import wandb"
   ]
  },
  {
   "cell_type": "code",
   "execution_count": 48,
   "metadata": {},
   "outputs": [],
   "source": [
    "def logisticRegressionClassifier():\n",
    "    from sklearn.linear_model import LogisticRegression\n",
    "    print('logisticRegressionClassifier')\n",
    "\n",
    "    clf = LogisticRegression(solver='lbfgs', max_iter=4000)\n",
    "    clf.fit(X_train, y_train)\n",
    "\n",
    "    preds = clf.predict(X_test)\n",
    "    pred_prob = clf.predict_proba(X_test)\n",
    "\n",
    "    print(metrics.classification_report(y_test, preds))\n",
    "    wandb.log({'accuracy_score': metrics.accuracy_score(y_test,preds)})\n",
    "\n",
    "    wandb.sklearn.plot_classifier(clf, X_train, X_test, y_train, y_test, preds, pred_prob, clf.classes_,\n",
    "                                  model_name='LogisticRegression', feature_names=None)\n"
   ]
  },
  {
   "cell_type": "code",
   "execution_count": 69,
   "metadata": {},
   "outputs": [],
   "source": [
    "import xgboost as xgb\n",
    "def xgbClassifier():\n",
    "    print('xgboost')\n",
    "    param={}\n",
    "    xg_train = xgb.DMatrix(X_train, label=y_train)\n",
    "    xg_test = xgb.DMatrix(X_test, label=y_test)\n",
    "    watchlist = [(xg_train, 'train'), (xg_test, 'test')]\n",
    "    param['objective'] = 'multi:softmax'\n",
    "    # scale weight of positive examples\n",
    "    param['eta'] = 0.1\n",
    "    param['num_class'] = 2\n",
    "    bst = xgb.train(param, xg_train, 5, watchlist, callbacks=[wandb.xgboost.wandb_callback()])\n",
    "    preds = bst.predict(xg_test)\n",
    "    wandb.log({'accuracy_score': metrics.accuracy_score(y_test,preds)})\n",
    "    #Use sklearn classifier API\n",
    "    clf = xgb.XGBClassifier(nthread = -1)\n",
    "    clf.fit(X_train, y_train)\n",
    "    print(\"done fitting\")\n",
    "    preds = clf.predict(X_test)\n",
    "    \n",
    "    pred_prob=clf.predict_proba(X_test)\n",
    "    \n",
    "    \n",
    "    wandb.sklearn.plot_learning_curve(clf, X_train, y_train)\n",
    "    wandb.termlog('Logged learning curve.')\n",
    "    wandb.sklearn.plot_confusion_matrix(y_test, preds, clf.classes_)\n",
    "    wandb.termlog('Logged confusion matrix.')\n",
    "    wandb.sklearn.plot_summary_metrics(clf, X=X_train, y=y_train, X_test=X_test, y_test=y_test)\n",
    "    wandb.termlog('Logged summary metrics.')\n",
    "    wandb.sklearn.plot_class_proportions(y_train, y_test, clf.classes_)\n",
    "    wandb.sklearn.plot_roc(y_test, pred_prob, clf.classes_)\n",
    "    wandb.termlog('Logged roc curve.')\n",
    "    wandb.sklearn.plot_precision_recall(y_test, pred_prob, clf.classes_)\n",
    "    wandb.termlog('Logged precision recall curve.')\n",
    "    "
   ]
  },
  {
   "cell_type": "code",
   "execution_count": 70,
   "metadata": {},
   "outputs": [],
   "source": [
    "from sklearn import naive_bayes\n"
   ]
  },
  {
   "cell_type": "code",
   "execution_count": 71,
   "metadata": {},
   "outputs": [],
   "source": [
    "def randomForestClassifier():\n",
    "    print('randomForestClassifier')\n",
    "\n",
    "    from sklearn.ensemble import RandomForestClassifier\n",
    "\n",
    "    clf = RandomForestClassifier(n_estimators=10)\n",
    "    clf.fit(X_train, y_train)\n",
    "\n",
    "    preds = clf.predict(X_test)\n",
    "    pred_prob = clf.predict_proba(X_test)\n",
    "    print(metrics.classification_report(y_test, preds))\n",
    "    wandb.log({'accuracy_score': metrics.accuracy_score(y_test,preds)})\n",
    "    \n",
    "    \n",
    "    wandb.sklearn.plot_learning_curve(clf, X_train, y_train)\n",
    "    wandb.termlog('Logged learning curve.')\n",
    "    wandb.sklearn.plot_confusion_matrix(y_test, preds, clf.classes_)\n",
    "    wandb.termlog('Logged confusion matrix.')\n",
    "    wandb.sklearn.plot_summary_metrics(clf, X=X_train, y=y_train, X_test=X_test, y_test=y_test)\n",
    "    wandb.termlog('Logged summary metrics.')\n",
    "    wandb.sklearn.plot_class_proportions(y_train, y_test, clf.classes_)\n",
    "    wandb.termlog('Logged class proportions.')\n",
    "    if(not isinstance(clf, naive_bayes.MultinomialNB)):\n",
    "        wandb.sklearn.plot_calibration_curve(clf, X_train, y_train, 'randomForestClassifier')\n",
    "    wandb.termlog('Logged calibration curve.')\n",
    "    wandb.sklearn.plot_roc(y_test, pred_prob, clf.classes_)\n",
    "    wandb.termlog('Logged roc curve.')\n",
    "    wandb.sklearn.plot_precision_recall(y_test, pred_prob, clf.classes_)\n",
    "    wandb.termlog('Logged precision recall curve.')\n"
   ]
  },
  {
   "cell_type": "code",
   "execution_count": 72,
   "metadata": {},
   "outputs": [],
   "source": [
    "def KNNClassifier():\n",
    "    print('KNN')\n",
    "    from sklearn.neighbors import KNeighborsClassifier\n",
    "    clf = KNeighborsClassifier(n_neighbors=5)\n",
    "    clf.fit(X_train, y_train)\n",
    "    preds = clf.predict(X_test)\n",
    "    pred_prob = clf.predict_proba(X_test)\n",
    "    print(metrics.classification_report(y_test, preds))\n",
    "    \n",
    "    wandb.log({'accuracy_score': metrics.accuracy_score(y_test,preds)})\n",
    "    \n",
    "    wandb.sklearn.plot_learning_curve(clf, X_train, y_train)\n",
    "    wandb.termlog('Logged learning curve.')\n",
    "    wandb.sklearn.plot_confusion_matrix(y_test, preds, clf.classes_)\n",
    "    wandb.termlog('Logged confusion matrix.')\n",
    "    wandb.sklearn.plot_summary_metrics(clf, X=X_train, y=y_train, X_test=X_test, y_test=y_test)\n",
    "    wandb.termlog('Logged summary metrics.')\n",
    "    wandb.sklearn.plot_class_proportions(y_train, y_test, clf.classes_)\n",
    "    wandb.termlog('Logged class proportions.')\n",
    "    if(not isinstance(clf, naive_bayes.MultinomialNB)):\n",
    "        wandb.sklearn.plot_calibration_curve(clf, X_train, y_train, 'KNeighborsClassifier')\n",
    "    wandb.termlog('Logged calibration curve.')\n",
    "    wandb.sklearn.plot_roc(y_test, pred_prob, clf.classes_)\n",
    "    wandb.termlog('Logged roc curve.')\n",
    "    wandb.sklearn.plot_precision_recall(y_test, pred_prob, clf.classes_)\n",
    "    wandb.termlog('Logged precision recall curve.')\n"
   ]
  },
  {
   "cell_type": "code",
   "execution_count": 73,
   "metadata": {},
   "outputs": [
    {
     "name": "stdout",
     "output_type": "stream",
     "text": [
      "Create sweep with ID: 17ruwn79\n",
      "Sweep URL: https://app.wandb.ai/cayush/uncategorized/sweeps/17ruwn79\n"
     ]
    }
   ],
   "source": [
    "sweep_config = {\n",
    "    'method': 'random', #grid, random\n",
    "    'metric': {\n",
    "      'name': 'accuracy_score',\n",
    "      'goal': 'maximize'   \n",
    "    },\n",
    "    'parameters': {\n",
    "\n",
    "        'model':{\n",
    "            'values':['randomForest','logistic','xgboost']\n",
    "        }\n",
    "    }\n",
    "}\n",
    "config_defaults = {\n",
    "\n",
    "        'model' : 'logistic'\n",
    "    }\n",
    "sweep_id = wandb.sweep(sweep_config)"
   ]
  },
  {
   "cell_type": "code",
   "execution_count": 74,
   "metadata": {},
   "outputs": [],
   "source": [
    "def call_trainer():\n",
    "    \n",
    "    if wandb.config.model == 'xgboost':\n",
    "        xgbClassifier()\n",
    "    \n",
    "    if wandb.config.model == 'logistic':\n",
    "        logisticRegressionClassifier()\n",
    "        \n",
    "    if wandb.config.model == 'randomForest':\n",
    "        randomForestClassifier()\n"
   ]
  },
  {
   "cell_type": "code",
   "execution_count": 75,
   "metadata": {},
   "outputs": [],
   "source": [
    "def train():\n",
    "    wandb.init()\n",
    "    if wandb.config.model == 'logistic':\n",
    "        logisticRegressionClassifier()\n",
    "        \n",
    "    if wandb.config.model == 'randomForest':\n",
    "        randomForestClassifier()\n",
    "    if wandb.config.model == 'xgboost':\n",
    "        xgbClassifier()\n",
    "    \n"
   ]
  },
  {
   "cell_type": "code",
   "execution_count": 76,
   "metadata": {
    "scrolled": false
   },
   "outputs": [
    {
     "name": "stdout",
     "output_type": "stream",
     "text": [
      "wandb: Agent Starting Run: gztxuaqh with config:\n",
      "\tmodel: randomForest\n",
      "wandb: Agent Started Run: gztxuaqh\n"
     ]
    },
    {
     "data": {
      "text/html": [
       "\n",
       "                Logging results to <a href=\"https://wandb.com\" target=\"_blank\">Weights & Biases</a> <a href=\"https://docs.wandb.com/integrations/jupyter.html\" target=\"_blank\">(Documentation)</a>.<br/>\n",
       "                Project page: <a href=\"https://app.wandb.ai/cayush/uncategorized\" target=\"_blank\">https://app.wandb.ai/cayush/uncategorized</a><br/>\n",
       "                Sweep page: <a href=\"https://app.wandb.ai/cayush/uncategorized/sweeps/17ruwn79\" target=\"_blank\">https://app.wandb.ai/cayush/uncategorized/sweeps/17ruwn79</a><br/>\n",
       "Run page: <a href=\"https://app.wandb.ai/cayush/uncategorized/runs/gztxuaqh\" target=\"_blank\">https://app.wandb.ai/cayush/uncategorized/runs/gztxuaqh</a><br/>\n",
       "            "
      ],
      "text/plain": [
       "<IPython.core.display.HTML object>"
      ]
     },
     "metadata": {},
     "output_type": "display_data"
    },
    {
     "name": "stderr",
     "output_type": "stream",
     "text": [
      "wandb: Wandb version 0.8.30 is available!  To upgrade, please run:\n",
      "wandb:  $ pip install wandb --upgrade\n"
     ]
    },
    {
     "name": "stdout",
     "output_type": "stream",
     "text": [
      "randomForestClassifier\n",
      "              precision    recall  f1-score   support\n",
      "\n",
      "           0       0.97      1.00      0.98    113844\n",
      "           1       0.72      0.25      0.37      4264\n",
      "\n",
      "    accuracy                           0.97    118108\n",
      "   macro avg       0.84      0.63      0.68    118108\n",
      "weighted avg       0.96      0.97      0.96    118108\n",
      "\n"
     ]
    },
    {
     "name": "stderr",
     "output_type": "stream",
     "text": [
      "wandb: Logged learning curve.\n",
      "wandb: Logged confusion matrix.\n",
      "wandb: Logged summary metrics.\n",
      "wandb: Logged class proportions.\n",
      "wandb: Logged calibration curve.\n",
      "wandb: Logged roc curve.\n",
      "wandb: Logged precision recall curve.\n"
     ]
    },
    {
     "name": "stdout",
     "output_type": "stream",
     "text": [
      "wandb: Agent Finished Run: gztxuaqh \n",
      "\n",
      "wandb: Agent Starting Run: ckuua8x7 with config:\n",
      "\tmodel: xgboost\n",
      "wandb: Agent Started Run: ckuua8x7\n"
     ]
    },
    {
     "data": {
      "text/html": [
       "\n",
       "                Logging results to <a href=\"https://wandb.com\" target=\"_blank\">Weights & Biases</a> <a href=\"https://docs.wandb.com/integrations/jupyter.html\" target=\"_blank\">(Documentation)</a>.<br/>\n",
       "                Project page: <a href=\"https://app.wandb.ai/cayush/uncategorized\" target=\"_blank\">https://app.wandb.ai/cayush/uncategorized</a><br/>\n",
       "                Sweep page: <a href=\"https://app.wandb.ai/cayush/uncategorized/sweeps/17ruwn79\" target=\"_blank\">https://app.wandb.ai/cayush/uncategorized/sweeps/17ruwn79</a><br/>\n",
       "Run page: <a href=\"https://app.wandb.ai/cayush/uncategorized/runs/ckuua8x7\" target=\"_blank\">https://app.wandb.ai/cayush/uncategorized/runs/ckuua8x7</a><br/>\n",
       "            "
      ],
      "text/plain": [
       "<IPython.core.display.HTML object>"
      ]
     },
     "metadata": {},
     "output_type": "display_data"
    },
    {
     "name": "stderr",
     "output_type": "stream",
     "text": [
      "wandb: Wandb version 0.8.30 is available!  To upgrade, please run:\n",
      "wandb:  $ pip install wandb --upgrade\n"
     ]
    },
    {
     "name": "stdout",
     "output_type": "stream",
     "text": [
      "xgboost\n",
      "[0]\ttrain-merror:0.03418\ttest-merror:0.03545\n",
      "[1]\ttrain-merror:0.03415\ttest-merror:0.03551\n",
      "[2]\ttrain-merror:0.03417\ttest-merror:0.03545\n",
      "[3]\ttrain-merror:0.03416\ttest-merror:0.03544\n",
      "[4]\ttrain-merror:0.03408\ttest-merror:0.03542\n",
      "done fitting\n"
     ]
    },
    {
     "name": "stderr",
     "output_type": "stream",
     "text": [
      "wandb: Logged learning curve.\n",
      "wandb: Logged confusion matrix.\n",
      "wandb: Logged summary metrics.\n",
      "wandb: WARNING wandb uses only the first 1000 datapoints to create the plots.\n",
      "wandb: WARNING wandb uses only the first 1000 datapoints to create the plots.\n",
      "WARNING:root:Truncating wandb.Table object to 1000 rows.\n",
      "wandb: Logged roc curve.\n",
      "wandb: Logged precision recall curve.\n"
     ]
    },
    {
     "name": "stdout",
     "output_type": "stream",
     "text": [
      "wandb: Agent Finished Run: ckuua8x7 \n",
      "\n",
      "wandb: Agent Starting Run: h71uplai with config:\n",
      "\tmodel: logistic\n",
      "wandb: Agent Started Run: h71uplai\n"
     ]
    },
    {
     "data": {
      "text/html": [
       "\n",
       "                Logging results to <a href=\"https://wandb.com\" target=\"_blank\">Weights & Biases</a> <a href=\"https://docs.wandb.com/integrations/jupyter.html\" target=\"_blank\">(Documentation)</a>.<br/>\n",
       "                Project page: <a href=\"https://app.wandb.ai/cayush/uncategorized\" target=\"_blank\">https://app.wandb.ai/cayush/uncategorized</a><br/>\n",
       "                Sweep page: <a href=\"https://app.wandb.ai/cayush/uncategorized/sweeps/17ruwn79\" target=\"_blank\">https://app.wandb.ai/cayush/uncategorized/sweeps/17ruwn79</a><br/>\n",
       "Run page: <a href=\"https://app.wandb.ai/cayush/uncategorized/runs/h71uplai\" target=\"_blank\">https://app.wandb.ai/cayush/uncategorized/runs/h71uplai</a><br/>\n",
       "            "
      ],
      "text/plain": [
       "<IPython.core.display.HTML object>"
      ]
     },
     "metadata": {},
     "output_type": "display_data"
    },
    {
     "name": "stderr",
     "output_type": "stream",
     "text": [
      "wandb: Wandb version 0.8.30 is available!  To upgrade, please run:\n",
      "wandb:  $ pip install wandb --upgrade\n"
     ]
    },
    {
     "name": "stdout",
     "output_type": "stream",
     "text": [
      "logisticRegressionClassifier\n"
     ]
    },
    {
     "name": "stderr",
     "output_type": "stream",
     "text": [
      "/home/ayush/anaconda3/lib/python3.7/site-packages/sklearn/metrics/classification.py:1437: UndefinedMetricWarning: Precision and F-score are ill-defined and being set to 0.0 in labels with no predicted samples.\n",
      "  'precision', 'predicted', average, warn_for)\n"
     ]
    },
    {
     "name": "stdout",
     "output_type": "stream",
     "text": [
      "              precision    recall  f1-score   support\n",
      "\n",
      "           0       0.96      1.00      0.98    113844\n",
      "           1       0.00      0.00      0.00      4264\n",
      "\n",
      "    accuracy                           0.96    118108\n",
      "   macro avg       0.48      0.50      0.49    118108\n",
      "weighted avg       0.93      0.96      0.95    118108\n",
      "\n"
     ]
    },
    {
     "name": "stderr",
     "output_type": "stream",
     "text": [
      "wandb: \n",
      "wandb: Plotting LogisticRegression.\n",
      "wandb: WARNING feature_importances_ attribute not in classifier. Cannot plot feature importances.\n",
      "wandb: Logged feature importances.\n",
      "wandb: Logged learning curve.\n",
      "wandb: Logged confusion matrix.\n",
      "/home/ayush/anaconda3/lib/python3.7/site-packages/sklearn/metrics/classification.py:1437: UndefinedMetricWarning: Precision is ill-defined and being set to 0.0 in labels with no predicted samples.\n",
      "  'precision', 'predicted', average, warn_for)\n",
      "/home/ayush/anaconda3/lib/python3.7/site-packages/sklearn/metrics/classification.py:1437: UndefinedMetricWarning: F-score is ill-defined and being set to 0.0 in labels with no predicted samples.\n",
      "  'precision', 'predicted', average, warn_for)\n",
      "wandb: Logged summary metrics.\n",
      "wandb: Logged class proportions.\n",
      "wandb: Logged calibration curve.\n",
      "wandb: WARNING wandb uses only the first 1000 datapoints to create the plots.\n",
      "wandb: WARNING wandb uses only the first 1000 datapoints to create the plots.\n",
      "WARNING:root:Truncating wandb.Table object to 1000 rows.\n",
      "wandb: Logged roc curve.\n",
      "wandb: Logged precision recall curve.\n"
     ]
    },
    {
     "name": "stdout",
     "output_type": "stream",
     "text": [
      "wandb: Agent Finished Run: h71uplai \n",
      "\n",
      "wandb: Agent Starting Run: 82xt094s with config:\n",
      "\tmodel: logistic\n",
      "wandb: Agent Started Run: 82xt094s\n"
     ]
    },
    {
     "data": {
      "text/html": [
       "\n",
       "                Logging results to <a href=\"https://wandb.com\" target=\"_blank\">Weights & Biases</a> <a href=\"https://docs.wandb.com/integrations/jupyter.html\" target=\"_blank\">(Documentation)</a>.<br/>\n",
       "                Project page: <a href=\"https://app.wandb.ai/cayush/uncategorized\" target=\"_blank\">https://app.wandb.ai/cayush/uncategorized</a><br/>\n",
       "                Sweep page: <a href=\"https://app.wandb.ai/cayush/uncategorized/sweeps/17ruwn79\" target=\"_blank\">https://app.wandb.ai/cayush/uncategorized/sweeps/17ruwn79</a><br/>\n",
       "Run page: <a href=\"https://app.wandb.ai/cayush/uncategorized/runs/82xt094s\" target=\"_blank\">https://app.wandb.ai/cayush/uncategorized/runs/82xt094s</a><br/>\n",
       "            "
      ],
      "text/plain": [
       "<IPython.core.display.HTML object>"
      ]
     },
     "metadata": {},
     "output_type": "display_data"
    },
    {
     "name": "stderr",
     "output_type": "stream",
     "text": [
      "wandb: Wandb version 0.8.30 is available!  To upgrade, please run:\n",
      "wandb:  $ pip install wandb --upgrade\n"
     ]
    },
    {
     "name": "stdout",
     "output_type": "stream",
     "text": [
      "logisticRegressionClassifier\n"
     ]
    },
    {
     "name": "stderr",
     "output_type": "stream",
     "text": [
      "/home/ayush/anaconda3/lib/python3.7/site-packages/sklearn/metrics/classification.py:1437: UndefinedMetricWarning: Precision and F-score are ill-defined and being set to 0.0 in labels with no predicted samples.\n",
      "  'precision', 'predicted', average, warn_for)\n"
     ]
    },
    {
     "name": "stdout",
     "output_type": "stream",
     "text": [
      "              precision    recall  f1-score   support\n",
      "\n",
      "           0       0.96      1.00      0.98    113844\n",
      "           1       0.00      0.00      0.00      4264\n",
      "\n",
      "    accuracy                           0.96    118108\n",
      "   macro avg       0.48      0.50      0.49    118108\n",
      "weighted avg       0.93      0.96      0.95    118108\n",
      "\n"
     ]
    },
    {
     "name": "stderr",
     "output_type": "stream",
     "text": [
      "wandb: \n",
      "wandb: Plotting LogisticRegression.\n",
      "wandb: WARNING feature_importances_ attribute not in classifier. Cannot plot feature importances.\n",
      "wandb: Logged feature importances.\n",
      "wandb: Logged learning curve.\n",
      "wandb: Logged confusion matrix.\n",
      "/home/ayush/anaconda3/lib/python3.7/site-packages/sklearn/metrics/classification.py:1437: UndefinedMetricWarning: Precision is ill-defined and being set to 0.0 in labels with no predicted samples.\n",
      "  'precision', 'predicted', average, warn_for)\n",
      "/home/ayush/anaconda3/lib/python3.7/site-packages/sklearn/metrics/classification.py:1437: UndefinedMetricWarning: F-score is ill-defined and being set to 0.0 in labels with no predicted samples.\n",
      "  'precision', 'predicted', average, warn_for)\n",
      "wandb: Logged summary metrics.\n",
      "wandb: Logged class proportions.\n",
      "wandb: Logged calibration curve.\n",
      "wandb: WARNING wandb uses only the first 1000 datapoints to create the plots.\n",
      "wandb: WARNING wandb uses only the first 1000 datapoints to create the plots.\n",
      "WARNING:root:Truncating wandb.Table object to 1000 rows.\n",
      "wandb: Logged roc curve.\n",
      "wandb: Logged precision recall curve.\n"
     ]
    },
    {
     "name": "stdout",
     "output_type": "stream",
     "text": [
      "wandb: Agent Finished Run: 82xt094s \n",
      "\n",
      "wandb: Agent Starting Run: 61lupr04 with config:\n",
      "\tmodel: xgboost\n",
      "wandb: Agent Started Run: 61lupr04\n"
     ]
    },
    {
     "data": {
      "text/html": [
       "\n",
       "                Logging results to <a href=\"https://wandb.com\" target=\"_blank\">Weights & Biases</a> <a href=\"https://docs.wandb.com/integrations/jupyter.html\" target=\"_blank\">(Documentation)</a>.<br/>\n",
       "                Project page: <a href=\"https://app.wandb.ai/cayush/uncategorized\" target=\"_blank\">https://app.wandb.ai/cayush/uncategorized</a><br/>\n",
       "                Sweep page: <a href=\"https://app.wandb.ai/cayush/uncategorized/sweeps/17ruwn79\" target=\"_blank\">https://app.wandb.ai/cayush/uncategorized/sweeps/17ruwn79</a><br/>\n",
       "Run page: <a href=\"https://app.wandb.ai/cayush/uncategorized/runs/61lupr04\" target=\"_blank\">https://app.wandb.ai/cayush/uncategorized/runs/61lupr04</a><br/>\n",
       "            "
      ],
      "text/plain": [
       "<IPython.core.display.HTML object>"
      ]
     },
     "metadata": {},
     "output_type": "display_data"
    },
    {
     "name": "stderr",
     "output_type": "stream",
     "text": [
      "wandb: Wandb version 0.8.30 is available!  To upgrade, please run:\n",
      "wandb:  $ pip install wandb --upgrade\n"
     ]
    },
    {
     "name": "stdout",
     "output_type": "stream",
     "text": [
      "xgboost\n",
      "[0]\ttrain-merror:0.03418\ttest-merror:0.03545\n",
      "[1]\ttrain-merror:0.03415\ttest-merror:0.03551\n",
      "[2]\ttrain-merror:0.03417\ttest-merror:0.03545\n",
      "[3]\ttrain-merror:0.03416\ttest-merror:0.03544\n",
      "[4]\ttrain-merror:0.03408\ttest-merror:0.03542\n"
     ]
    },
    {
     "name": "stderr",
     "output_type": "stream",
     "text": [
      "wandb: Ctrl-c pressed. Waiting for runs to end. Press ctrl-c again to terminate them.\n",
      "Process Process-12:\n",
      "Traceback (most recent call last):\n",
      "  File \"/home/ayush/anaconda3/lib/python3.7/multiprocessing/process.py\", line 297, in _bootstrap\n",
      "    self.run()\n",
      "  File \"/home/ayush/anaconda3/lib/python3.7/multiprocessing/process.py\", line 99, in run\n",
      "    self._target(*self._args, **self._kwargs)\n",
      "  File \"/home/ayush/anaconda3/lib/python3.7/site-packages/wandb/wandb_agent.py\", line 64, in _start\n",
      "    function()\n",
      "  File \"<ipython-input-75-dfb50c3bca05>\", line 9, in train\n",
      "    xgbClassifier()\n",
      "  File \"<ipython-input-69-5b8f50f4ac4f>\", line 17, in xgbClassifier\n",
      "    clf.fit(X_train, y_train)\n",
      "  File \"/home/ayush/anaconda3/lib/python3.7/site-packages/xgboost/sklearn.py\", line 823, in fit\n",
      "    callbacks=callbacks)\n",
      "  File \"/home/ayush/anaconda3/lib/python3.7/site-packages/xgboost/training.py\", line 209, in train\n",
      "    xgb_model=xgb_model, callbacks=callbacks)\n",
      "  File \"/home/ayush/anaconda3/lib/python3.7/site-packages/xgboost/training.py\", line 74, in _train_internal\n",
      "    bst.update(dtrain, i, obj)\n",
      "  File \"/home/ayush/anaconda3/lib/python3.7/site-packages/xgboost/core.py\", line 1249, in update\n",
      "    dtrain.handle))\n",
      "KeyboardInterrupt\n"
     ]
    }
   ],
   "source": [
    "wandb.agent(sweep_id,function=train)"
   ]
  },
  {
   "cell_type": "code",
   "execution_count": 76,
   "metadata": {
    "scrolled": true
   },
   "outputs": [
    {
     "data": {
      "text/html": [
       "\n",
       "                Logging results to <a href=\"https://wandb.com\" target=\"_blank\">Weights & Biases</a> <a href=\"https://docs.wandb.com/integrations/jupyter.html\" target=\"_blank\">(Documentation)</a>.<br/>\n",
       "                Project page: <a href=\"https://app.wandb.ai/cayush/sklearn\" target=\"_blank\">https://app.wandb.ai/cayush/sklearn</a><br/>\n",
       "                Run page: <a href=\"https://app.wandb.ai/cayush/sklearn/runs/0rb31lg4\" target=\"_blank\">https://app.wandb.ai/cayush/sklearn/runs/0rb31lg4</a><br/>\n",
       "            "
      ],
      "text/plain": [
       "<IPython.core.display.HTML object>"
      ]
     },
     "metadata": {},
     "output_type": "display_data"
    },
    {
     "name": "stderr",
     "output_type": "stream",
     "text": [
      "wandb: Wandb version 0.8.30 is available!  To upgrade, please run:\n",
      "wandb:  $ pip install wandb --upgrade\n"
     ]
    },
    {
     "name": "stdout",
     "output_type": "stream",
     "text": [
      "xgboost\n",
      "[0]\ttrain-merror:0.03446\ttest-merror:0.03418\n",
      "[1]\ttrain-merror:0.03453\ttest-merror:0.03423\n",
      "[2]\ttrain-merror:0.03451\ttest-merror:0.03421\n",
      "[3]\ttrain-merror:0.03450\ttest-merror:0.03420\n",
      "[4]\ttrain-merror:0.03446\ttest-merror:0.03411\n",
      "              precision    recall  f1-score   support\n",
      "\n",
      "           0       0.97      1.00      0.98    114024\n",
      "           1       0.67      0.03      0.05      4084\n",
      "\n",
      "    accuracy                           0.97    118108\n",
      "   macro avg       0.82      0.51      0.52    118108\n",
      "weighted avg       0.96      0.97      0.95    118108\n",
      "\n"
     ]
    }
   ],
   "source": [
    "wandb.init()\n",
    "xgbClassifier()"
   ]
  },
  {
   "cell_type": "code",
   "execution_count": null,
   "metadata": {},
   "outputs": [],
   "source": [
    "!pip install dask"
   ]
  },
  {
   "cell_type": "code",
   "execution_count": null,
   "metadata": {},
   "outputs": [],
   "source": [
    "!pip uninstall xgboost y "
   ]
  },
  {
   "cell_type": "code",
   "execution_count": null,
   "metadata": {},
   "outputs": [],
   "source": [
    "!pip3 install xgboost==1.0.0\n"
   ]
  },
  {
   "cell_type": "code",
   "execution_count": null,
   "metadata": {},
   "outputs": [],
   "source": [
    "import xgboost"
   ]
  },
  {
   "cell_type": "code",
   "execution_count": null,
   "metadata": {},
   "outputs": [],
   "source": [
    "import dask as d"
   ]
  },
  {
   "cell_type": "code",
   "execution_count": null,
   "metadata": {},
   "outputs": [],
   "source": [
    "import dask.utils"
   ]
  },
  {
   "cell_type": "code",
   "execution_count": null,
   "metadata": {},
   "outputs": [],
   "source": [
    "d.utils"
   ]
  },
  {
   "cell_type": "code",
   "execution_count": 61,
   "metadata": {},
   "outputs": [],
   "source": []
  },
  {
   "cell_type": "code",
   "execution_count": null,
   "metadata": {},
   "outputs": [],
   "source": []
  }
 ],
 "metadata": {
  "celltests": {},
  "colab": {
   "collapsed_sections": [],
   "name": "cse519_hw2_playground.ipynb",
   "provenance": [],
   "version": "0.3.2"
  },
  "kernelspec": {
   "display_name": "Python 3",
   "language": "python",
   "name": "python3"
  },
  "language_info": {
   "codemirror_mode": {
    "name": "ipython",
    "version": 3
   },
   "file_extension": ".py",
   "mimetype": "text/x-python",
   "name": "python",
   "nbconvert_exporter": "python",
   "pygments_lexer": "ipython3",
   "version": "3.7.4"
  }
 },
 "nbformat": 4,
 "nbformat_minor": 4
}
